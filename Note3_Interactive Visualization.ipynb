{
 "cells": [
  {
   "cell_type": "markdown",
   "metadata": {},
   "source": [
    "# Interative visualization\n",
    "## 효용성\n",
    "- zooming into or zomming out the data\n",
    "- education: more engaged\n",
    "\n",
    "## Single View interactions\n",
    "* Change over Time\n",
    "* Select\n",
    "* Navigate\n",
    "    - Item reduction \n",
    "        - Zoom(Geographic or Semantic) \n",
    "        - Pan/Translate\n",
    "        - Contrained\n",
    "    - Attribute Reduction\n",
    "        - Slice\n",
    "        - Cut\n",
    "        - Project\n",
    "\n",
    "### Animation Pitfalls\n",
    "#### Small multiples\n",
    "* one view per state\n",
    "* show time with space\n",
    "\n",
    "#### When to use animation\n",
    "* good : chronological storytelling\n",
    "* good: transition between; states\n",
    "* poor: multiple states and "
   ]
  },
  {
   "cell_type": "markdown",
   "metadata": {},
   "source": [
    "## Interaction Techniques: Basic Method\n",
    "- Selection\n",
    "    - click on elements\n",
    "    - lasso/drag over elements\n",
    "    - hover over elements\n",
    "- Manipulation\n",
    "    - move\n",
    "    - sort\n",
    "    - add / delete element\n",
    "    \n",
    "## Interaction Techniques: Advanced\n",
    "- Focus + Context e.g. [Fisheye Distortion](https://bost.ocks.org/mike/fisheye/) e.g. [Brushing + Zoom](https://bl.ocks.org/mbostock/34f08d5e11952a80609169b7917d4172)\n",
    "    - *focusing만 가능하지만, context를 잃어버릴 수 있다.*\n",
    "- Overview + Detail e.g.[Google Maps](maps.google.com)\n",
    "- Brushing + Linking e.g.[Adult Obesity in the United States](https://www.stateofobesity.org/adult-obesity/)\n",
    "    - brushing이라는 것은 mouse over 하거나 hover over를 하는 것을 의미한다.  \n",
    "- Zooming + Panning\n",
    "    - geometric zooming(modifies grafhical replresntation)\n",
    "    - semantic zooming(modifies seletion of data) e.g.[Semantic Zooming](https://bl.ocks.org/mbostock/3680957)\n",
    "    - often combined(Google Maps)\n"
   ]
  },
  {
   "cell_type": "markdown",
   "metadata": {},
   "source": []
  }
 ],
 "metadata": {
  "kernelspec": {
   "display_name": "Python 3",
   "language": "python",
   "name": "python3"
  },
  "language_info": {
   "codemirror_mode": {
    "name": "ipython",
    "version": 3
   },
   "file_extension": ".py",
   "mimetype": "text/x-python",
   "name": "python",
   "nbconvert_exporter": "python",
   "pygments_lexer": "ipython3",
   "version": "3.7.3"
  }
 },
 "nbformat": 4,
 "nbformat_minor": 2
}
