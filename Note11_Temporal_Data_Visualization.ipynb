{
 "cells": [
  {
   "cell_type": "markdown",
   "metadata": {},
   "source": [
    "# Temporal Data Visualization\n",
    "전체 흐름을 보기 위해서는 graph를 연속적으로 그림.\n",
    "peak를 강조하기 위해서 겨울을 중간에 두고 연도별로 겹쳐서 그림\n",
    "spark line\n",
    "\n",
    "e.g. [Lifelines2](http://www.cs.umd.edu/hcil/lifelines2/) - cohort 시각화\n",
    "![](http://www.cs.umd.edu/hcil/lifelines2/images/title.png)\n",
    "\n",
    "e.g. [similan](http://www.cs.umd.edu/hcil/similan/) - 병동환자 시간별 위치 시각화\n",
    "![](http://www.cs.umd.edu/hcil/similan/img/simi20091011/overview.png)\n",
    "\n",
    "e.g. CareCruise - single patient \n",
    "![CareCruise](https://www.researchgate.net/profile/Paolo_Federico/publication/232769073/figure/fig1/AS:300628300582918@1448686780449/CareCruiser-9-The-temporal-view-on-the-right-arranges-patient-parameters-together.png)"
   ]
  },
  {
   "cell_type": "markdown",
   "metadata": {},
   "source": [
    "## Properties\n",
    "- Scale: Ordinal, discrete, or continuous\n",
    "- Scope: point or interval\n",
    "- Arrangement: linear or cyclic\n",
    "- Viewpoint\n",
    "\n",
    "### Scales\n",
    "- Ordinal scale : 순서만 나타낸다고 생각\n",
    "- Discrete scale : e.g. individual minute, \n",
    "- Continuous scale : discrete에서 같은 시간에 나타나는 것이 seperate 될 수 있다. \n",
    "\n",
    "### View point\n",
    "- Order\n",
    "    - totally ordered: \n",
    "    - partially ordered: events an overlap\n",
    "- Branching\n",
    "e.g. ![컴퓨터 프로그래밍의 역사](https://t1.daumcdn.net/cfile/tistory/2707B03653A40E5433)\n",
    "- Multiple Perspectives\n",
    "    - valid time / transaction time\n",
    "\n",
    "### Summary of properties\n",
    "[Visualization of Time-Oriented Data](https://link.springer.com/book/10.1007/978-0-85729-079-3)\n"
   ]
  },
  {
   "cell_type": "markdown",
   "metadata": {},
   "source": [
    "e.g. Nightingale:Rose Charts(1858)\n",
    "- scale을 area로 했는지 length로 했는지 모르겠지만, length로 했다면 over emphasize 될 가능성이 높다 \n",
    "![Nightingale:Rose Charts(1858)](https://cdn.vanderbilt.edu/vu-wp0/wp-content/uploads/sites/70/2019/03/27191658/Nightingale-mortality.jpg)\n",
    "\n",
    "e.g. Marey:Train Schedule(1975)\n",
    "- 기차의 속도가 빠른 것을 기울기로 확인할 수 있다.\n",
    "- 언제 출발하는지 언제 도착하는지 위치에 따라 확인할 수 있다. \n",
    "![Marey: Train Schedule(1975)](https://i2.wp.com/ieg.ifs.tuwien.ac.at/~aigner/teaching/ws06/infovis_ue/img/technique-images/full-size/marey_train-schedule.jpg?zoom=2)\n",
    "\n",
    "e.g. Tufte: Bus schedule(1990)\n",
    "- rush hour \n",
    "- frequency\n",
    "- Whole bus schedule\n",
    "- 실제로 몇시 버스를 타야할지는 잘 나타내지 못한다. \n",
    "![Bus schedule(1990)](https://www.edwardtufte.com/bboard/images/0003uu-14338.jpg)\n",
    "\n",
    "e.g. Tile Maps - github contributions  \n",
    "e.g. calendar-based views\n",
    "![](https://ai2-s2-public.s3.amazonaws.com/figures/2017-08-08/068adade71524f8fd393c72ebf95a9d8a3a648ee/2-Figure1-1.png)\n",
    "\n",
    "- dendrogram\n",
    "- full clustering tree\n",
    "![](https://ai2-s2-public.s3.amazonaws.com/figures/2017-08-08/068adade71524f8fd393c72ebf95a9d8a3a648ee/4-Figure4-1.png)\n",
    "\n",
    "e.g. horizon chart\n",
    "- heatmap에 y axis를 추가한 것\n",
    "![](http://vis.berkeley.edu/papers/horizon/construction.png)\n",
    "![](https://www.aquaclusters.com/app/home/project/public/aquadatastudio/wikibook/New-Features-17.0/page/Horizon-Charts/attachment/E2BADE6A-AC19-EFF0-605D-57EFFBDB1507/Horizon-Chart-Overview-Small-png)\n",
    "\n",
    "e.g. cycle plot\n",
    "날짜별로 그리는 것이 아니라, 요일별로 붙여서 그릴 수 있다. \n",
    "tile map이 비슷한 역할을 한다. \n",
    "![](https://encaion.files.wordpress.com/2016/03/cycle_plot_1.jpeg?w=863&h=1&crop=1)\n",
    "\n",
    "e.g. pixel map\n",
    "\n",
    "e.g. trendalyzer/gapminer\n",
    "\n",
    "e.g. semantic zoom with oscillating Data\n"
   ]
  },
  {
   "cell_type": "code",
   "execution_count": null,
   "metadata": {},
   "outputs": [],
   "source": []
  }
 ],
 "metadata": {
  "kernelspec": {
   "display_name": "Python 3",
   "language": "python",
   "name": "python3"
  },
  "language_info": {
   "codemirror_mode": {
    "name": "ipython",
    "version": 3
   },
   "file_extension": ".py",
   "mimetype": "text/x-python",
   "name": "python",
   "nbconvert_exporter": "python",
   "pygments_lexer": "ipython3",
   "version": "3.7.3"
  }
 },
 "nbformat": 4,
 "nbformat_minor": 2
}
