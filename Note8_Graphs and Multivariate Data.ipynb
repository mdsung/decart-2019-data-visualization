{
 "cells": [
  {
   "cell_type": "markdown",
   "metadata": {},
   "source": [
    "# Graphs and Multivariate Data\n",
    "## Interactions: And Multivariate Data\n",
    "### Heat Map(Qauntification) + Network(relationship)\n",
    "1. complex glyphs = multiple values per node\n",
    "2. animation\n",
    "3. small multiples\n",
    "\n",
    "#### Small Multiples\n",
    "![http://media.juiceanalytics.com/images/smallmultiples1.png](http://media.juiceanalytics.com/images/smallmultiples1.png)\n",
    "\n",
    "## Interactions: And Multivariate Data(Complex glyphs)\n",
    "- Lichen\n",
    "- Prometra\n",
    "- VistaClara(Cytoscape)\n",
    "- GENeVis\n",
    "- VisANT\n",
    "- VANTED\n",
    "- Cerebral(Cytoscape plugin)\n",
    "\n",
    "### Focusing on individual gene how to behave over time\n",
    "complex glymphs\n",
    "\n",
    "### How the network changes overtime\n",
    "small multiples\n",
    "animation\n",
    "\n",
    "#### 즉, 무엇을 보느냐에 따라 방법이 달라진다. \n",
    "\n",
    "### Juxtaposed Views\n",
    "make linear path + expression qauntification graph  \n",
    "e.g. [Pathline](https://www.cs.utah.edu/~miriah/pathline/Overview.html) - \n",
    "    [Overview](http://www.cs.utah.edu/~miriah/pathline/SupplementalMaterials/Figure1.pdf)\n",
    "    [linialization of the graph](http://www.cs.utah.edu/~miriah/pathline/SupplementalMaterials/Figure2.pdf)\n",
    "      \n",
    "e.g. [Caleydo](https://caleydo.org/publications/2016_eurovis_avocado/)  \n",
    "e.g. [EnRoute](https://bmcbioinformatics.biomedcentral.com/articles/10.1186/1471-2105-14-S19-S3)\n",
    "![Enroute](https://media.springernature.com/full/springer-static/image/art%3A10.1186%2F1471-2105-14-S19-S3/MediaObjects/12859_2013_Article_6187_Fig2_HTML.jpg?as=webp)\n",
    "    "
   ]
  },
  {
   "cell_type": "markdown",
   "metadata": {},
   "source": [
    "[Multivariate visualization wizard](https://vdl.sci.utah.edu/mvnv/wizard/)"
   ]
  },
  {
   "cell_type": "code",
   "execution_count": null,
   "metadata": {},
   "outputs": [],
   "source": []
  }
 ],
 "metadata": {
  "kernelspec": {
   "display_name": "Python 3",
   "language": "python",
   "name": "python3"
  },
  "language_info": {
   "codemirror_mode": {
    "name": "ipython",
    "version": 3
   },
   "file_extension": ".py",
   "mimetype": "text/x-python",
   "name": "python",
   "nbconvert_exporter": "python",
   "pygments_lexer": "ipython3",
   "version": "3.7.3"
  }
 },
 "nbformat": 4,
 "nbformat_minor": 2
}
