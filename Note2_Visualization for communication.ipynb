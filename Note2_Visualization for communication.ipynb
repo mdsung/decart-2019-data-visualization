{
 "cells": [
  {
   "cell_type": "markdown",
   "metadata": {},
   "source": [
    "# Visualization for communication\n",
    "\n",
    "* (as much data as possible)\n",
    "* Exploration\n",
    "* Confirmation\n",
    "* Presentation  \n",
    "* (as much data as necessary)  \n",
    "\n",
    "* Confirmation Exploration\n",
    "- dialogue between computer and analyst\n",
    "\n",
    "## Presentation\n",
    "- dialogue analyst and audiences\n",
    "### Focus on the Message: Reduce Data Details\n",
    "Focus 과정\n",
    "        10개의 숫자 → 3그룹으로 하여 size로 visualization → number stacked histogram → histogram with abline\n",
    "        \n",
    " ### Use layout to Convey Meaning\n",
    " 2 x 2 → 가로의 간격 < 세로의 간격 이라면 의미가 생긴다. → 1 x 4: sequence를 보여줄 수 있다. \n",
    " \n",
    " ### Focus on the Data: Maximize Data /Ink Ratio\n",
    "color, grid를 넣기 보다는 bar chart내에 grid를 그림으로 해서 더 좋게 보일 수 있다. \n",
    "![img](https://image.slidesharecdn.com/latsession-150320003103-conversion-gate01/95/theory-of-data-visualizationvinu-13-638.jpg?cb=1426811546)\n",
    "(The visual Display of Quantitative Information, 2nd Edition, 2001)\n",
    "\n",
    "### Don't shout at your audience!\n",
    "- 여러개를 강조할 필요가 없다. \n",
    "\n",
    " "
   ]
  },
  {
   "cell_type": "code",
   "execution_count": null,
   "metadata": {},
   "outputs": [],
   "source": []
  }
 ],
 "metadata": {
  "kernelspec": {
   "display_name": "Python 3",
   "language": "python",
   "name": "python3"
  },
  "language_info": {
   "codemirror_mode": {
    "name": "ipython",
    "version": 3
   },
   "file_extension": ".py",
   "mimetype": "text/x-python",
   "name": "python",
   "nbconvert_exporter": "python",
   "pygments_lexer": "ipython3",
   "version": "3.7.3"
  }
 },
 "nbformat": 4,
 "nbformat_minor": 2
}
