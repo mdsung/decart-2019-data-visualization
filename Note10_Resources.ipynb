{
 "cells": [
  {
   "cell_type": "markdown",
   "metadata": {},
   "source": [
    "# Resources:\n",
    "## Manuscript\n",
    "* IEEE: Transactions on Computer graphics and visualization(TVCG)\n",
    "* IEEE: Computer Graphics and APplications\n",
    "* \n",
    "\n",
    "## Books\n",
    "* Miriah Meyer: Making Data visual\n",
    "* Tamara Munzner: visualization Analysis&Design(text book)\n",
    "* Edward Tufte books\n",
    "* Stephen Few: Show me the Numbers / Information Dsshboard Design\n",
    "* Alberto Cairo: The {Functional, Truthful} Art\n",
    "* Andy Kirk: Data visualization\n",
    "\n",
    "## Meetings\n",
    "- [IEEE VIS COnference](http://ieeevis.org)\n",
    "- EuroVis Conference\n",
    "- [IEEE/ISCB BioVis](http://biovis.net) - biological\n",
    "- [AMIA/IEEE Visual Analytics in Healthcare](http://www.visualanalyticshealthcare.org) - medical/clinical\n",
    "- VizBi Meeting(http://vizbi.org)\n",
    "- Visual Computing in Biology and Medicine\n",
    "\n",
    "# Temporal Data Visualization"
   ]
  },
  {
   "cell_type": "code",
   "execution_count": null,
   "metadata": {},
   "outputs": [],
   "source": []
  }
 ],
 "metadata": {
  "kernelspec": {
   "display_name": "Python 3",
   "language": "python",
   "name": "python3"
  },
  "language_info": {
   "codemirror_mode": {
    "name": "ipython",
    "version": 3
   },
   "file_extension": ".py",
   "mimetype": "text/x-python",
   "name": "python",
   "nbconvert_exporter": "python",
   "pygments_lexer": "ipython3",
   "version": "3.7.3"
  }
 },
 "nbformat": 4,
 "nbformat_minor": 2
}
