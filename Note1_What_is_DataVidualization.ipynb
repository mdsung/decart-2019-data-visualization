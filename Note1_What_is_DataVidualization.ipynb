{
 "cells": [
  {
   "cell_type": "markdown",
   "metadata": {},
   "source": [
    "# Data Visualization\n",
    "## Learning goal\n",
    "\n",
    "* What is data visualization, how does it work, and what are the principles behind it?(Day1)\n",
    "* How can we design evaluate visualizations? (Day2)\n",
    "* How can we visualize time-series and genomic data? (Day3)\n",
    "* How to use altair to make interactive visualizations in Python."
   ]
  },
  {
   "cell_type": "markdown",
   "metadata": {},
   "source": [
    "## What is Data Visualization?"
   ]
  },
  {
   "cell_type": "markdown",
   "metadata": {},
   "source": [
    "### Definitions\n",
    "* The use of computer-supported, interative, visual representations of data to amplify cofintion.  \n",
    "* Computer-based visualization systems provide representations of datasets intended **to help people carry out some task more effectively.**"
   ]
  },
  {
   "cell_type": "markdown",
   "metadata": {},
   "source": [
    "### Keep it in your mind \n",
    "* The purpose of computing is insight, not numbers.\n",
    "* The purpose of visualization is insignt, not pictures.\n"
   ]
  },
  {
   "cell_type": "markdown",
   "metadata": {},
   "source": [
    "### Why do we need it?\n",
    "* A good sketch is better then the long speech."
   ]
  },
  {
   "cell_type": "markdown",
   "metadata": {},
   "source": [
    "#### 다음 그림에서 어떤 것을 알 수 있나?\n",
    "![Charles Minard: napoleon's march](https://www.edwardtufte.com/tufte/graphics/poster_OrigMinard.gif)\n",
    "1. 들어갈 때와 나올 때 군대의 인원이 다르다. \n",
    "2. 강을 건널때마다 사람이 많이 준다. \n",
    "...\n",
    "\n",
    "→ communication tools for telling a story"
   ]
  },
  {
   "cell_type": "markdown",
   "metadata": {},
   "source": [
    "![](https://static01.nyt.com/newsgraphics/2014/10/07/uninsured/068e343d1d31110a56d457b3b66f97da44fd2eac/screenshots/changeMap-full.png)"
   ]
  },
  {
   "cell_type": "markdown",
   "metadata": {},
   "source": [
    "#### What a Hundred Million Calls to 311 Reveal About New York\n",
    "- not for scientific reports. - no Y-axis, Cannot compare with group\n",
    "- colorful, not familiar visualization - attract other people's attention\n",
    "![](https://www.wired.com/magazine/wp-content/images/18-11/ff_311_newyork1b_f.jpg)"
   ]
  },
  {
   "cell_type": "markdown",
   "metadata": {},
   "source": [
    "#### Anscombe's quartet\n",
    "![Anscombe's quartet](https://www.researchgate.net/profile/Arch_Woodside2/publication/285672900/figure/fig4/AS:305089983074309@1449750528742/Anscombes-quartet-of-different-XY-plots-of-four-data-sets-having-identical-averages.png)\n",
    "- 기본적으로 같은 통계 값이 나오더라도 visualization에서 인지하는 것은 다를 수 있다. \n",
    "- Confirm or reject hypothesis"
   ]
  },
  {
   "cell_type": "markdown",
   "metadata": {},
   "source": [
    "#### Find any particular pattern in my data (Exploration my data) \n",
    "* trends\n",
    "* gaps\n",
    "* outliers\n",
    "* clusters\n",
    "\n",
    "* gererate hypotheses that can be tested with statistical methos or ..."
   ]
  },
  {
   "cell_type": "markdown",
   "metadata": {},
   "source": [
    "#### Scientific discovery process\n",
    "* data\n",
    "* exploration\n",
    "* discovery\n",
    "* explanation\n",
    "* Hypothesis"
   ]
  },
  {
   "cell_type": "markdown",
   "metadata": {},
   "source": [
    "* Exploration   \n",
    "    * little insight  \n",
    "    * e.g. cytoscape  \n",
    "    * scientists\n",
    "* Explanation   \n",
    "    * high insight  \n",
    "    * e.g. abode illustrator  \n",
    "    * Scientists, Educators, Policy Makers, Citizens..\n"
   ]
  },
  {
   "cell_type": "markdown",
   "metadata": {},
   "source": [
    "How to use our visualization tools for exploration"
   ]
  },
  {
   "cell_type": "markdown",
   "metadata": {},
   "source": [
    "## Textbook\n",
    "* Making data visual\n",
    "* Visualization Analysis & Design (Tamara Munzer, 2014)\n",
    "\n",
    "## Projects\n",
    "1. EMR visualization[halyos](http://halyos.gehlenborglab.org/)\n",
    "2. Genetics visualization [higlass](http://higlass.io/)\n",
    "3. singlecell data\n",
    "4. [TIME-SERIES: periphery plots time series](https://arxiv.org/pdf/1906.07637.pdf)\n",
    "\n",
    "## Conferences\n",
    "VISBI[http://vizbi.org] : data visualization conferences\n",
    "\n",
    "## Workshop"
   ]
  },
  {
   "cell_type": "markdown",
   "metadata": {},
   "source": [
    "## How does it work?"
   ]
  },
  {
   "cell_type": "markdown",
   "metadata": {},
   "source": [
    "* Why do we use visual system and not other sensory systems?  \n",
    "    Information bandwidth of visual system is much higher than of all other \n",
    "\n",
    "* Visualization uses perception to free up cognition.  \n",
    "    머리를 이용하지 않고, 눈으로 인지할 수 있다. "
   ]
  },
  {
   "cell_type": "markdown",
   "metadata": {},
   "source": [
    "* pre-attentive processing"
   ]
  },
  {
   "cell_type": "markdown",
   "metadata": {},
   "source": [
    "\n",
    "visualization is an external cognitive aid and augments working memory"
   ]
  },
  {
   "cell_type": "markdown",
   "metadata": {},
   "source": [
    "예시)\n",
    "* alphabet 무리에서 P 찾기\n",
    "* 3 digit multiply 3 digit \n",
    "* compare two functions\n"
   ]
  },
  {
   "cell_type": "markdown",
   "metadata": {},
   "source": [
    "## Design Critique"
   ]
  },
  {
   "cell_type": "markdown",
   "metadata": {},
   "source": [
    "* compare"
   ]
  },
  {
   "cell_type": "markdown",
   "metadata": {},
   "source": [
    "1. y-axis \n",
    "2. start from the 0 - bring it down to the single axis\n",
    "3. break to the \n"
   ]
  },
  {
   "cell_type": "markdown",
   "metadata": {},
   "source": [
    "## Data Classification\n",
    "  - tabular \n",
    "    - caterotical e.g. apples / bananas / oranges\n",
    "    - ordered\n",
    "        - ordinal e.g. small / large / medium / large\n",
    "        - qunatiative e.g. 10inches / 13 inches / 18.5 inches\n",
    "            \n",
    "    - relation e.g. trees / network\n",
    "    - spatial\n",
    "    \n",
    "\n"
   ]
  },
  {
   "cell_type": "markdown",
   "metadata": {},
   "source": [
    "## Visual Channels: Rankings\n",
    "* preattentive processing\n",
    "    전체를 스캔하지 않아도 확인할 수 있다. \n",
    "\n",
    "### Categorcal (what? else?)\n",
    "* position\n",
    "* color hue\n",
    "* shape - 너무 많으면 구분이 되지 않는다. \n",
    "\n",
    "\n",
    "### Relational (with whom?)\n",
    "* containment\n",
    "* connection e.g. graphs: node and edges\n",
    "* similarity e.g, color\n",
    "* position(proxiity) e.g. clustring\n",
    "\n",
    "### Ordinal & Quantitative (How much?)\n",
    "* position(common scale - same origin) e.g. line chart, scatter plot\n",
    "* position(unaligned state)\n",
    "* length(1D)\n",
    "* angle/tilt e.g. Pie chart / \n",
    "* area(2D)\n",
    "* curvature\n",
    "* volume (3D)\n",
    "* lightness\n",
    "* coloar saturation\n",
    "위로 갈수록 작은 것을 잘 구분할 수 있다. \n",
    "\n",
    "### Ranking of Encodings\n",
    "![Data type endocing](https://www.lucypark.kr/courses/2015-dm/images/visual_encoding.png)\n",
    "\n"
   ]
  },
  {
   "cell_type": "markdown",
   "metadata": {},
   "source": [
    "### Principle of importance Ordering  \n",
    "Encode more important information more effectively.\n",
    "\n",
    "- How accurately can the data be read from the visualization?\n",
    "- How many classes can be distinguished?\n",
    "    * color를 구분하기가 쉽지 않다. \n",
    "- Can the cahnnels be separated from each other?\n",
    "- Which channels are processed preattentively?\n",
    "    * 의미 sequential 하게 모두 scan 할 필요가 없다. \n",
    "    * color\n",
    "    * shape?\n",
    "    * shape and color??\n",
    "    * more shapes???\n",
    "\n"
   ]
  },
  {
   "cell_type": "markdown",
   "metadata": {},
   "source": [
    "**무엇이 목적인지 확실히 하고 visualization 해야 한다.**"
   ]
  },
  {
   "cell_type": "markdown",
   "metadata": {},
   "source": [
    "#### Bar chart for items & categories (item 별로 color)\n",
    "* stacked bar chart - easy to explain total \n",
    "* layered bar chart - 각각의 item을 비교할 수 있다.\n",
    "* grouped bar chart - 변화량을 볼 수 있다.   \n",
    "\n",
    "* e.g. [LineUp: Visual Analysis of Multi-Attribute Rankings](https://projects.iq.harvard.edu/files/pfister/files/2013_infovis_lineup.pdf)\n"
   ]
  },
  {
   "cell_type": "markdown",
   "metadata": {},
   "source": [
    "for example [https://github.com/d3/d3-voronoi](https://github.com/d3/d3-voronoi)"
   ]
  },
  {
   "cell_type": "markdown",
   "metadata": {},
   "source": [
    "## Color pitfalls : rainbow color map\n",
    "* hard to order in rainbow \n",
    "    * easy to order in gradient(gray color)\n",
    "* lower resolution\n",
    "* creates artifacts\n",
    "\n",
    "* diversing\n",
    "    e.g. color brewer\n",
    "* sequential\n",
    "* qualitative\n",
    "\n",
    "### Alternative color maps\n",
    "* heat\n",
    "* ggplot default\n",
    "* brewer blues\n",
    "* brewer yellow-green-blue\n",
    "* viridis\n",
    "* magma  (highly recommended)\n",
    "\n",
    "![alternative color maps](https://www.datanovia.com/en/wp-content/uploads/dn-tutorials/ggplot2/figures/029-r-color-palettes-r-color-scales-1.png)\n",
    "\n",
    "zero corssing not explicit\n",
    "lack of ordering\n",
    "\n",
    "## Color pitfalls: Relativity\n",
    "* color is a relative medium and context matters\n",
    "\n",
    "reference\n",
    "    - Wong 2010, Nature methods\n",
    "    \n",
    "## Color pitfalls: Discriminability\n",
    "* only 6-12 colors are visually discernible! \n",
    "6-12 카테고리가 넘어가면 다른 discrimination을 찾아라 \n",
    "\n",
    "## Color pitfalls: Color Blindness\n",
    "- normal vision\n",
    "- red-green blindness\n",
    "\n",
    "## Color pitfalls: Color Mapping\n",
    "- 이상하게 discrimination을 시킬 수 있다. : diversion color map: 0을 기준으로 나뉘는 것은 괜찮다.  \n",
    "- gray scale 추천 : sequential color map\n",
    "\n",
    "- window를 조절할 수 있다. \n",
    "- -4, 10을 비교할 때 -4를 나타내는 lightness를 변경하지 않는 것이 좋다. asymmetric\n",
    "\n",
    "\n",
    "<font color = \"red\">**★ Color used pooly is worse than no color at all.**</font>\n",
    "- edward Tufte\n",
    "\n",
    "\n",
    "\n",
    "## Location pitfalls: Data Location\n",
    "![img](http://gehlenborglab.org/assets/img/publications/fullsize/pov-bar-box.png)\n",
    "* bar plot\n",
    "* box plot\n",
    "* violin plot\n",
    "\n",
    "ref)\n",
    "(Streit and Gehlenborg 2014 Nature Methods )\n",
    "\n",
    "## Encoding pitfalls: Interference\n",
    "* shape and size\n",
    "    - 작아지면 shape를 구분할 수 없다. \n",
    "    - 작아지면 color를 구분할 수 없다. \n",
    "    \n",
    "    \n",
    "## 3D: Depth Cues\n",
    "* occlusion\n",
    "* size\n",
    "* shading\n",
    "\n",
    "perspective를 제공\n",
    "\n",
    "## 3D pitfalls: Perspective\n",
    "perspective distortion: interferes with size channel encoding\n",
    "\n",
    "## 3D pitfalls: Occlusion\n",
    "앞에 있는 것이 뒤에 있는 것을 가릴 수 있다. \n",
    "\n",
    "★ 절대로 3차원 차트를 쓰지 마라 \n",
    "\n",
    "## 3D pitfalls: Oclusion and Perspective\n",
    "## 3D pitfalls: Text Legibility \n",
    "label이 가릴 수 있다. \n",
    "\n"
   ]
  },
  {
   "cell_type": "code",
   "execution_count": null,
   "metadata": {},
   "outputs": [],
   "source": []
  }
 ],
 "metadata": {
  "kernelspec": {
   "display_name": "Python 3",
   "language": "python",
   "name": "python3"
  },
  "language_info": {
   "codemirror_mode": {
    "name": "ipython",
    "version": 3
   },
   "file_extension": ".py",
   "mimetype": "text/x-python",
   "name": "python",
   "nbconvert_exporter": "python",
   "pygments_lexer": "ipython3",
   "version": "3.7.3"
  }
 },
 "nbformat": 4,
 "nbformat_minor": 2
}
