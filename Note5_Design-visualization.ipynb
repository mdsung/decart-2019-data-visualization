{
 "cells": [
  {
   "cell_type": "markdown",
   "metadata": {},
   "source": [
    "# Excercise: Redesign"
   ]
  },
  {
   "cell_type": "markdown",
   "metadata": {},
   "source": [
    "* Venn diagram\n",
    "* Euler diagram - not all possible intersection\n"
   ]
  },
  {
   "cell_type": "markdown",
   "metadata": {},
   "source": [
    "### Possible answers:\n",
    "#### upset plots\n",
    "* [upset plot1](https://vcg.github.io/upset/)\n",
    "* [upset plot2](https://caleydo.org/tools/upset/)\n",
    "\n",
    "![upset plot](https://caleydo.org/assets/images/projects/upset//upsetr-banana.png)"
   ]
  },
  {
   "cell_type": "markdown",
   "metadata": {},
   "source": [
    "## Design Visualization"
   ]
  },
  {
   "cell_type": "markdown",
   "metadata": {},
   "source": [
    "#### User-Centeted Participatory Design\n",
    "1. Target\n",
    "2. Design(just sketch)\n",
    "3. Implement\n",
    "4. Evaluate\n",
    "5. Apply/Validate\n",
    "\n",
    "#### Goal of Design Process\n",
    "Your known space should be large. 그래야지 그 중에 좋은 결과를 보여줄 수 있다. \n",
    "\n",
    "* diverge\n",
    "    - 누가 필요한가\n",
    "    - 가능한 solution이 무엇이 있는가?\n",
    "* converge\n",
    "    - where is the focus\n",
    "    - what is good solution\n",
    "    \n",
    "for example)\n",
    "[Oncothread](http://oncothreads.gehlenborglab.org)\n",
    "   \n",
    "#### Design Splint\n",
    "1. **make** a map and choose a target\n",
    "2. **sketch** competing solutions\n",
    "    - 종이를 접어서 6개 부분으로 나눈 다음에 한색깔로 rough하게 그린다. \n",
    "3. **decide** on the best\n",
    "    - 벽에 붙여서 가장 나은 것에 스티커를 붙이는 것 등으로 가장 좋은 의견을 뽑는다. \n",
    "4. **build** a realistic prototype\n",
    "5. **test** with target customers\n",
    "\n",
    "#### Defining the problem\n",
    "#### User interview\n",
    "\n"
   ]
  },
  {
   "cell_type": "code",
   "execution_count": null,
   "metadata": {},
   "outputs": [],
   "source": []
  }
 ],
 "metadata": {
  "kernelspec": {
   "display_name": "Python 3",
   "language": "python",
   "name": "python3"
  },
  "language_info": {
   "codemirror_mode": {
    "name": "ipython",
    "version": 3
   },
   "file_extension": ".py",
   "mimetype": "text/x-python",
   "name": "python",
   "nbconvert_exporter": "python",
   "pygments_lexer": "ipython3",
   "version": "3.7.3"
  }
 },
 "nbformat": 4,
 "nbformat_minor": 2
}
